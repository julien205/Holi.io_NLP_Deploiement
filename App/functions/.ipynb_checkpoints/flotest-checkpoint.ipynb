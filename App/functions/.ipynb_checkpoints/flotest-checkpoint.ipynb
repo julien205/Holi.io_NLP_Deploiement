{
 "cells": [
  {
   "cell_type": "code",
   "execution_count": 1,
   "source": [
    "from find_keywords import find_keywords\r\n",
    "\r\n",
    "find_keywords('Please select how many keywords you want in your keyphrases', 1, 5)"
   ],
   "outputs": [
    {
     "output_type": "stream",
     "name": "stderr",
     "text": [
      "[nltk_data] Downloading package stopwords to\n",
      "[nltk_data]     C:\\Users\\floon\\AppData\\Roaming\\nltk_data...\n",
      "[nltk_data]   Package stopwords is already up-to-date!\n"
     ]
    },
    {
     "output_type": "execute_result",
     "data": {
      "text/plain": [
       "['want', 'many', 'select', 'keywords', 'keyphrases']"
      ]
     },
     "metadata": {},
     "execution_count": 1
    }
   ],
   "metadata": {}
  },
  {
   "cell_type": "code",
   "execution_count": 4,
   "source": [
    "l_keywords = 1\r\n",
    "n_keywords = 2\r\n",
    "\r\n",
    "keywords = ['a','b']\r\n",
    "keywords_text = f\"Here are the {n_keywords} keyphrases with a lengthof {l_keywords} word(s) each:\\n\" + ' '.join(keywords)\r\n",
    "keywords_text"
   ],
   "outputs": [
    {
     "output_type": "execute_result",
     "data": {
      "text/plain": [
       "'Here are the 2 keyphrases with a lengthof 1 word(s) each:\\na b'"
      ]
     },
     "metadata": {},
     "execution_count": 4
    }
   ],
   "metadata": {}
  },
  {
   "cell_type": "code",
   "execution_count": null,
   "source": [],
   "outputs": [],
   "metadata": {}
  }
 ],
 "metadata": {
  "orig_nbformat": 4,
  "language_info": {
   "name": "python",
   "version": "3.9.6",
   "mimetype": "text/x-python",
   "codemirror_mode": {
    "name": "ipython",
    "version": 3
   },
   "pygments_lexer": "ipython3",
   "nbconvert_exporter": "python",
   "file_extension": ".py"
  },
  "kernelspec": {
   "name": "python3",
   "display_name": "Python 3.9.6 64-bit"
  },
  "interpreter": {
   "hash": "054327147dd6b92a2141b13d8d56b429c2b8fd00f06e26c8085931bddbb1c782"
  }
 },
 "nbformat": 4,
 "nbformat_minor": 2
}